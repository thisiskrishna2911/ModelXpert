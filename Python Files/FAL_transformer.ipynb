{
 "cells": [
  {
   "cell_type": "code",
   "execution_count": 12,
   "id": "68ed3591-7459-4140-83cd-963688d90004",
   "metadata": {},
   "outputs": [
    {
     "name": "stdout",
     "output_type": "stream",
     "text": [
      "                 Type  Distinct Values  Missing Values\n",
      "Unnamed: 0          2          2848041               0\n",
      "Type                2                4               0\n",
      "Distinct Values     2            16395               0\n",
      "Missing Values      2             1950               0\n",
      "Is Target           2                2               0\n"
     ]
    }
   ],
   "source": [
    "import pandas as pd\n",
    "\n",
    "def get_column_metadata(df):\n",
    "    metadata = []\n",
    "    \n",
    "    for col in df.columns:\n",
    "        col_data = {}\n",
    "        \n",
    "        # Determine the type of the column\n",
    "        if pd.api.types.is_numeric_dtype(df[col]):\n",
    "            col_data['Type'] = 2  # Numeric\n",
    "        elif pd.api.types.is_string_dtype(df[col]):\n",
    "            col_data['Type'] = 3  # String\n",
    "        elif pd.api.types.is_datetime64_any_dtype(df[col]):\n",
    "            col_data['Type'] = 0  # Date\n",
    "        else:\n",
    "            col_data['Type'] = 1  # Nominal (categorical)\n",
    "        \n",
    "        # Count distinct values\n",
    "        col_data['Distinct Values'] = df[col].nunique()\n",
    "        \n",
    "        # Count missing values\n",
    "        col_data['Missing Values'] = df[col].isnull().sum()\n",
    "        \n",
    "        # Append the data for this column\n",
    "        metadata.append(col_data)\n",
    "    \n",
    "    # Create a DataFrame from the metadata list\n",
    "    metadata_df = pd.DataFrame(metadata, index=df.columns)\n",
    "    \n",
    "    return metadata_df\n",
    "\n",
    "# Example usage\n",
    "# Assuming you have loaded your dataset into a pandas DataFrame (df)\n",
    "df = pd.read_csv('your_dataset.csv')\n",
    "\n",
    "metadata_df = get_column_metadata(df)\n",
    "print(metadata_df)\n"
   ]
  },
  {
   "cell_type": "code",
   "execution_count": null,
   "id": "ba7182e1-c98e-4225-9b81-cb5723d7789a",
   "metadata": {},
   "outputs": [],
   "source": []
  }
 ],
 "metadata": {
  "kernelspec": {
   "display_name": "Python 3 (ipykernel)",
   "language": "python",
   "name": "python3"
  },
  "language_info": {
   "codemirror_mode": {
    "name": "ipython",
    "version": 3
   },
   "file_extension": ".py",
   "mimetype": "text/x-python",
   "name": "python",
   "nbconvert_exporter": "python",
   "pygments_lexer": "ipython3",
   "version": "3.11.11"
  }
 },
 "nbformat": 4,
 "nbformat_minor": 5
}
